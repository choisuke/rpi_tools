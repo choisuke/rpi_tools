{
 "cells": [
  {
   "cell_type": "markdown",
   "metadata": {},
   "source": [
    "# ラズパイ\n",
    "***"
   ]
  },
  {
   "cell_type": "markdown",
   "metadata": {},
   "source": [
    "## GPIOのLEDに関するクラス\n",
    "***"
   ]
  },
  {
   "cell_type": "code",
   "execution_count": null,
   "metadata": {},
   "outputs": [],
   "source": [
    "import RPi.GPIO as GPIO\n",
    "\n",
    "class GPIO_led:\n",
    "    def __init__(self, pin_bcm_num):\n",
    "        self.pin_num = pin_bcm_num\n",
    "        self.GPIO = GPIO\n",
    "        self.GPIO.setmode(self.GPIO.BCM)\n",
    "        self.GPIO.setup(self.pin_num, self.GPIO.OUT)\n",
    "        \n",
    "    def led_on(self):\n",
    "        self.GPIO.output(self.pin_num, self.GPIO.HIGH)\n",
    "\n",
    "    def led_off(self):\n",
    "        self.GPIO.output(self.pin_num, self.GPIO.HIGH)"
   ]
  },
  {
   "cell_type": "markdown",
   "metadata": {},
   "source": [
    "## OpenCV のカメラに関するクラス\n",
    "***"
   ]
  },
  {
   "cell_type": "code",
   "execution_count": 93,
   "metadata": {},
   "outputs": [],
   "source": [
    "import cv2\n",
    "\n",
    "class camera:\n",
    "    def __init__(self, width, height, fps=4, camera_num=0):\n",
    "        self.cap = cv2.VideoCapture(camera_num)\n",
    "        self.cap.set(3,width)\n",
    "        self.cap.set(4,height)\n",
    "        self.cap.set(5,fps) # FPS\n",
    "    \n",
    "    def realtime(self):\n",
    "        while(self.cap.isOpened()):\n",
    "            _, self.frame = self.cap.read()\n",
    "            cv2.imshow('frame',self.frame)\n",
    "            if cv2.waitKey(1) != -1:\n",
    "                break\n",
    "        return\n",
    "    \n",
    "    def shot(self):\n",
    "        ret, frame = self.cap.read()\n",
    "        return ret, frame\n",
    "\n",
    "    def shot_and_save(self, name, cntr=0):\n",
    "        if cntr>=5:\n",
    "            print('check camera again...')\n",
    "            return False\n",
    "        \n",
    "        ret, self.frame = self.cap.read()\n",
    "        if ret:\n",
    "            cv2.imwrite(name, self.frame)\n",
    "            return True\n",
    "        else:\n",
    "            cntr+=1\n",
    "\n",
    "        shot_and_save(self, name, cntr)\n",
    "    \n",
    "    def release(self):\n",
    "        self.cap.release()\n",
    "        cv2.destroyAllWindows()\n"
   ]
  },
  {
   "cell_type": "code",
   "execution_count": 94,
   "metadata": {},
   "outputs": [],
   "source": [
    "if __name__ == '__main__':\n",
    "    front=camera(100, 100, 100)\n",
    "    for i in range(10):\n",
    "        front.shot_and_save(str(i).zfill(3)+'.png')"
   ]
  },
  {
   "cell_type": "code",
   "execution_count": 95,
   "metadata": {},
   "outputs": [
    {
     "data": {
      "text/plain": [
       "'4.1.0'"
      ]
     },
     "execution_count": 95,
     "metadata": {},
     "output_type": "execute_result"
    }
   ],
   "source": [
    "cv2.__version__"
   ]
  },
  {
   "cell_type": "code",
   "execution_count": null,
   "metadata": {},
   "outputs": [],
   "source": []
  }
 ],
 "metadata": {
  "kernelspec": {
   "display_name": "Python 3",
   "language": "python",
   "name": "python3"
  },
  "language_info": {
   "codemirror_mode": {
    "name": "ipython",
    "version": 3
   },
   "file_extension": ".py",
   "mimetype": "text/x-python",
   "name": "python",
   "nbconvert_exporter": "python",
   "pygments_lexer": "ipython3",
   "version": "3.7.2"
  }
 },
 "nbformat": 4,
 "nbformat_minor": 4
}
